{
  "nbformat": 4,
  "nbformat_minor": 0,
  "metadata": {
    "colab": {
      "name": "MarkovChains.ipynb",
      "private_outputs": true,
      "provenance": [],
      "collapsed_sections": [],
      "authorship_tag": "ABX9TyOdXo4IUw3egBvpR7iwPAYh",
      "include_colab_link": true
    },
    "kernelspec": {
      "name": "python3",
      "display_name": "Python 3"
    },
    "language_info": {
      "name": "python"
    }
  },
  "cells": [
    {
      "cell_type": "markdown",
      "metadata": {
        "id": "view-in-github",
        "colab_type": "text"
      },
      "source": [
        "<a href=\"https://colab.research.google.com/github/JordiVillaFreixa/ABII/blob/master/MarkovChains.ipynb\" target=\"_parent\"><img src=\"https://colab.research.google.com/assets/colab-badge.svg\" alt=\"Open In Colab\"/></a>"
      ]
    },
    {
      "cell_type": "markdown",
      "source": [
        "# Markov chains\n",
        "\n",
        "Adapted from [this page](https://towardsdatascience.com/hands-on-markov-chains-example-using-python-8138bf2bd971)."
      ],
      "metadata": {
        "id": "VNeN8MH51lse"
      }
    },
    {
      "cell_type": "markdown",
      "source": [
        "## Setup libraries and parameters for plotting"
      ],
      "metadata": {
        "id": "CPrJ50jB10_P"
      }
    },
    {
      "cell_type": "code",
      "execution_count": null,
      "metadata": {
        "id": "glC0jXIp1MZr"
      },
      "outputs": [],
      "source": [
        "import matplotlib.pyplot as plt\n",
        "import numpy as np\n",
        "import pandas as pd\n",
        "import seaborn as sns\n",
        "plt.style.use('ggplot')\n",
        "plt.rcParams['font.family'] = 'sans-serif' \n",
        "plt.rcParams['font.serif'] = 'Ubuntu' \n",
        "plt.rcParams['font.monospace'] = 'Ubuntu Mono' \n",
        "plt.rcParams['font.size'] = 14 \n",
        "plt.rcParams['axes.labelsize'] = 12 \n",
        "plt.rcParams['axes.labelweight'] = 'bold' \n",
        "plt.rcParams['axes.titlesize'] = 12 \n",
        "plt.rcParams['xtick.labelsize'] = 12 \n",
        "plt.rcParams['ytick.labelsize'] = 12 \n",
        "plt.rcParams['legend.fontsize'] = 12 \n",
        "plt.rcParams['figure.titlesize'] = 12 \n",
        "plt.rcParams['image.cmap'] = 'jet' \n",
        "plt.rcParams['image.interpolation'] = 'none' \n",
        "plt.rcParams['figure.figsize'] = (12, 10) \n",
        "plt.rcParams['axes.grid']=False\n",
        "plt.rcParams['lines.linewidth'] = 2 \n",
        "plt.rcParams['lines.markersize'] = 8\n",
        "colors = ['xkcd:pale orange', 'xkcd:sea blue', 'xkcd:pale red', 'xkcd:sage green', 'xkcd:terra cotta', 'xkcd:dull purple', 'xkcd:teal', 'xkcd: goldenrod', 'xkcd:cadet blue',\n",
        "'xkcd:scarlet']"
      ]
    },
    {
      "cell_type": "markdown",
      "source": [
        "## Random walks\n",
        "\n",
        "Let as assume first we toss a coin a large number of times. If heads, we collect 1€. If tails, we loss 1€. How much money do we have after 10K tosses? Well, of course, it will depend on fate... "
      ],
      "metadata": {
        "id": "mhz3YK7-16n_"
      }
    },
    {
      "cell_type": "code",
      "source": [
        "# tossing a coin n times\n",
        "def random_walk(n,p,plot):\n",
        "  start = 0\n",
        "  x = []                # the vector keeping the gains/losses after every toss\n",
        "  for i in range(n):\n",
        "      step = np.random.choice([-1,1],p=p)     # at every toss we may get \n",
        "                                                    # heads (and we gain 1€) or \n",
        "                                                    # tails (and we lose 1€)\n",
        "      start = start + step\n",
        "      x.append(start)\n",
        "\n",
        "  # let us plot the evolution of our gains/losses\n",
        "  if plot:\n",
        "\n",
        "    plt.plot(x)\n",
        "    plt.xlabel('Steps',fontsize=20)\n",
        "    plt.ylabel(r'$S_{n}$',fontsize=20)\n",
        "  return start\n",
        "\n",
        "#check first with non-biased probability\n",
        "p=[0.5,0.5]\n",
        "random_walk(100,p,True)"
      ],
      "metadata": {
        "id": "V_tIkbOi1VJh"
      },
      "execution_count": null,
      "outputs": []
    },
    {
      "cell_type": "markdown",
      "source": [
        "Q: Check what happens when the coin is biased with probabilities for heads/tails equal to `p=[0.6,0.4], for example"
      ],
      "metadata": {
        "id": "DTEzpW3O-i2E"
      }
    },
    {
      "cell_type": "markdown",
      "source": [
        "Next, let us plot a histogram of the results of exploring this problem several times (samples). Check the distribution we get for unbiased and biased cases"
      ],
      "metadata": {
        "id": "lsEih8Za-xdh"
      }
    },
    {
      "cell_type": "code",
      "source": [
        "samples = 1000\n",
        "tosses = 100\n",
        "dist = []\n",
        "p=[0.5,0.5]\n",
        "for i in range(samples):\n",
        "  dist.append(random_walk(tosses,p,False)) \n",
        "\n",
        "\n",
        "sns.set_style('darkgrid')\n",
        "sns.histplot(dist)"
      ],
      "metadata": {
        "id": "MA0LP0GH4TjC"
      },
      "execution_count": null,
      "outputs": []
    },
    {
      "cell_type": "markdown",
      "source": [
        "## Gambler's ruin chain\n",
        "\n",
        "We next consider the example of the gambler that tosses an unbiassed coin and that wins or loses 1€ depending on heads and tails, as before but, now, the game ends when the gambler has 0 or 5€.\n",
        "\n",
        "Let us define first the transition matrix for each state"
      ],
      "metadata": {
        "id": "Z6CLuf42_Uo2"
      }
    },
    {
      "cell_type": "code",
      "source": [
        "state_0 = [1.0,0,0,0,0,0]\n",
        "state_1 = [0.5,0,0.5,0,0,0]\n",
        "state_2 = [0,0.5,0,0.5,0,0]\n",
        "state_3 = [0,0,0.5,0,0.5,0]\n",
        "state_4 = [0,0,0,0,0.5,0.5]\n",
        "state_5 = [0,0,0,0,0,1.0]\n",
        "trans_matrix = np.array([state_0,state_1,state_2,state_3,state_4,state_5])\n",
        "trans_matrix = np.transpose(trans_matrix)\n",
        "trans_matrix"
      ],
      "metadata": {
        "id": "OtJ-ElNp_rkL"
      },
      "execution_count": null,
      "outputs": []
    },
    {
      "cell_type": "markdown",
      "source": [
        "Now, assuming a given starting value `start``€, what is the progress the gambler does?"
      ],
      "metadata": {
        "id": "cvsDcrmEEJw7"
      }
    },
    {
      "cell_type": "code",
      "source": [
        "probability = [0,0,0,1.0,0,0] # let us assume the gambler starts with 3€\n",
        "steps = 25\n",
        "np.set_printoptions(precision=3,suppress=True)\n",
        "print(probability)\n",
        "for i in range(steps):\n",
        "  probability=np.matmul(trans_matrix,probability)\n",
        "  print(probability)"
      ],
      "metadata": {
        "id": "EN6va9lLEV5n"
      },
      "execution_count": null,
      "outputs": []
    }
  ]
}